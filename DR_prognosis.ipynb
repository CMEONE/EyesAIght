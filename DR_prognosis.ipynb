{
  "nbformat": 4,
  "nbformat_minor": 0,
  "metadata": {
    "colab": {
      "name": "DR-prognosis.ipynb",
      "provenance": [],
      "collapsed_sections": []
    },
    "kernelspec": {
      "name": "python3",
      "display_name": "Python 3"
    },
    "language_info": {
      "name": "python"
    }
  },
  "cells": [
    {
      "cell_type": "code",
      "metadata": {
        "id": "qNHOhi54V_-A"
      },
      "source": [
        "!pip install scikit-survival"
      ],
      "execution_count": null,
      "outputs": []
    },
    {
      "cell_type": "code",
      "metadata": {
        "id": "D8qSldV6e8qf"
      },
      "source": [
        "#All the imports\n",
        "import matplotlib.pyplot as plt\n",
        "import matplotlib.image as mpimg\n",
        "import numpy as np\n",
        "import pandas as pd\n",
        "import sklearn as sk\n",
        "\n",
        "from sksurv.linear_model import CoxnetSurvivalAnalysis\n",
        "from sklearn.model_selection import train_test_split\n",
        "\n",
        "\n",
        "#-----------Other-----------\n",
        "# Make numpy printouts easier to read.\n",
        "np.set_printoptions(precision=3, suppress=True)\n",
        "\n",
        "#IO for the files\n",
        "from google.colab import files\n",
        "import io\n",
        "\n",
        "#Clear output\n",
        "from IPython.display import clear_output"
      ],
      "execution_count": 7,
      "outputs": []
    },
    {
      "cell_type": "code",
      "metadata": {
        "id": "0vzc3XX9fAT9"
      },
      "source": [
        "#Reading csv from upload\n",
        "uploaded = files.upload()"
      ],
      "execution_count": null,
      "outputs": []
    },
    {
      "cell_type": "code",
      "metadata": {
        "id": "XQMtfIEgfCDZ"
      },
      "source": [
        "#All the column names\n",
        "column_names = ['ID', 'Laser Type', 'Eye', 'Age', 'Type', 'Treated Group', 'Treated Status', 'Treated Time', 'Untreated Group', 'Untreated Status', 'Untreated Time']\n",
        "raw_ds = pd.read_csv('drdata.csv', na_values=\"NaN\")\n",
        "raw_ds.columns = column_names"
      ],
      "execution_count": 9,
      "outputs": []
    },
    {
      "cell_type": "code",
      "metadata": {
        "id": "GmSco9stoTdR"
      },
      "source": [
        "dataset = raw_ds.copy()\n",
        "dataset2 = raw_ds.copy()"
      ],
      "execution_count": 23,
      "outputs": []
    },
    {
      "cell_type": "code",
      "metadata": {
        "id": "8Ax09_8RoajW"
      },
      "source": [
        "dataset = dataset.drop(columns=['ID','Treated Group', 'Treated Status', 'Treated Time', 'Laser Type'])\n",
        "dataset['Untreated Status'] = (dataset['Untreated Status'] == 1).astype(bool)\n",
        "\n",
        "dataset2 = dataset2.drop(columns=['ID','Untreated Group', 'Untreated Status', 'Untreated Time'])\n",
        "dataset2['Treated Status'] = (dataset2['Treated Status'] == 1).astype(bool)"
      ],
      "execution_count": 24,
      "outputs": []
    },
    {
      "cell_type": "code",
      "metadata": {
        "id": "hNUUjHwap1kp"
      },
      "source": [
        "dataset2"
      ],
      "execution_count": null,
      "outputs": []
    },
    {
      "cell_type": "code",
      "metadata": {
        "id": "NgZvKA0Tp7YF"
      },
      "source": [
        "X = dataset.iloc[:,:-2]\n",
        "Y = dataset.iloc[:,-2:]\n",
        "Y = Y.to_records(index=False)\n",
        "\n",
        "X2 = dataset2.iloc[:,:-2]\n",
        "Y2 = dataset2.iloc[:,-2:]\n",
        "Y2 = Y2.to_records(index=False)"
      ],
      "execution_count": 27,
      "outputs": []
    },
    {
      "cell_type": "code",
      "metadata": {
        "id": "a8jE4KkiqWFL"
      },
      "source": [
        "# One Hot Encodings\n",
        "non_dummy_cols = ['Age'] \n",
        "dummy_cols = list(set(X.columns) - set(non_dummy_cols))\n",
        "X = pd.get_dummies(X, columns=dummy_cols)\n",
        "\n",
        "dummy_cols2 = list(set(X2.columns) - set(non_dummy_cols))\n",
        "X2 = pd.get_dummies(X2, columns=dummy_cols2)"
      ],
      "execution_count": 28,
      "outputs": []
    },
    {
      "cell_type": "code",
      "metadata": {
        "id": "plPv3N2zoUsh"
      },
      "source": [
        "X2"
      ],
      "execution_count": null,
      "outputs": []
    },
    {
      "cell_type": "code",
      "metadata": {
        "id": "jG__QlGiqeP6"
      },
      "source": [
        "random_state = 20\n",
        "\n",
        "X_train, X_test, Y_train, Y_test = train_test_split(\n",
        "    X, Y, test_size=0.2, random_state=random_state)\n",
        "\n",
        "random_state = 20\n",
        "\n",
        "X2_train, X2_test, Y2_train, Y2_test = train_test_split(\n",
        "    X2, Y2, test_size=0.2, random_state=random_state)"
      ],
      "execution_count": 30,
      "outputs": []
    },
    {
      "cell_type": "code",
      "metadata": {
        "id": "ra4UBaFJqltE"
      },
      "source": [
        "coxnetUT = CoxnetSurvivalAnalysis(l1_ratio=0.9, fit_baseline_model=True)\n",
        "coxnetUT.fit(X_train, Y_train)\n",
        "\n",
        "coxnetTR = CoxnetSurvivalAnalysis(l1_ratio=0.9, fit_baseline_model=True)\n",
        "coxnetTR.fit(X2_train, Y2_train)"
      ],
      "execution_count": null,
      "outputs": []
    },
    {
      "cell_type": "code",
      "metadata": {
        "id": "mulXC2jAqnvU"
      },
      "source": [
        "from joblib import dump, load\n",
        "dump(coxnetUT, 'coxnetUT.joblib') \n",
        "dump(coxnetTR, 'coxnetTR.joblib') "
      ],
      "execution_count": null,
      "outputs": []
    },
    {
      "cell_type": "code",
      "metadata": {
        "id": "R5psUoq9q2-4"
      },
      "source": [
        "surv_funcs = {}\n",
        "for alpha in coxnetUT.alphas_[:5]:\n",
        "    surv_funcs[alpha] = coxnetUT.predict_survival_function(\n",
        "        X_train.iloc[150:151], alpha=alpha)\n",
        "    \n",
        "surv_funcs2 = {}\n",
        "for alpha in coxnetTR.alphas_[:5]:\n",
        "    surv_funcs2[alpha] = coxnetTR.predict_survival_function(\n",
        "        X2_train.iloc[150:151], alpha=alpha)"
      ],
      "execution_count": 35,
      "outputs": []
    },
    {
      "cell_type": "code",
      "metadata": {
        "colab": {
          "base_uri": "https://localhost:8080/",
          "height": 285
        },
        "id": "EVeInEIeo59o",
        "outputId": "f76f4880-1dc2-4fa5-fd03-b65eb1861d48"
      },
      "source": [
        "for alpha, surv_alpha in surv_funcs.items():\n",
        "    for fn in surv_alpha:\n",
        "        plt.step(fn.x, fn(fn.x), where=\"post\")\n",
        "\n",
        "for alpha, surv_alpha in surv_funcs2.items():\n",
        "    for fn in surv_alpha:\n",
        "        plt.step(fn.x, fn(fn.x), where=\"post\")\n",
        "\n",
        "plt.ylim(0, 1)\n",
        "plt.legend()\n",
        "plt.show()"
      ],
      "execution_count": 38,
      "outputs": [
        {
          "output_type": "stream",
          "text": [
            "No handles with labels found to put in legend.\n"
          ],
          "name": "stderr"
        },
        {
          "output_type": "display_data",
          "data": {
            "image/png": "[encoded data removed]",
            "text/plain": [
              "<Figure size 432x288 with 1 Axes>"
            ]
          },
          "metadata": {
            "tags": [],
            "needs_background": "light"
          }
        }
      ]
    }
  ]
}