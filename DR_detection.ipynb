{
  "nbformat": 4,
  "nbformat_minor": 0,
  "metadata": {
    "colab": {
      "name": "DR-detection.ipynb",
      "provenance": []
    },
    "kernelspec": {
      "name": "python3",
      "display_name": "Python 3"
    },
    "language_info": {
      "name": "python"
    },
    "accelerator": "GPU"
  },
  "cells": [
    {
      "cell_type": "code",
      "metadata": {
        "id": "9Llj4gPYfnis"
      },
      "source": [
        "#Imports\n",
        "!pip install kaggle\n",
        "from zipfile import ZipFile as z\n",
        "from google.colab import files"
      ],
      "execution_count": null,
      "outputs": []
    },
    {
      "cell_type": "code",
      "metadata": {
        "id": "rDIyNteZfqGX"
      },
      "source": [
        "#Kaggle Data Import\n",
        "files.upload()"
      ],
      "execution_count": null,
      "outputs": []
    },
    {
      "cell_type": "code",
      "metadata": {
        "id": "65oBZ8ENfscs"
      },
      "source": [
        "!mkdir -p ~/.kaggle\n",
        "!cp kaggle.json ~/.kaggle/\n",
        "\n",
        "!chmod 600 ~/.kaggle/kaggle.json"
      ],
      "execution_count": 4,
      "outputs": []
    },
    {
      "cell_type": "code",
      "metadata": {
        "id": "ZIBPrytYftqo"
      },
      "source": [
        "!kaggle datasets download --force -d tanlikesmath/diabetic-retinopathy-resized"
      ],
      "execution_count": null,
      "outputs": []
    },
    {
      "cell_type": "code",
      "metadata": {
        "id": "3bRo3oAOf0uZ"
      },
      "source": [
        "file_name = \"diabetic-retinopathy-resized.zip\"\n",
        "\n",
        "with z(file_name, 'r') as zi:\n",
        "  zi.extractall()\n",
        "  print('done')"
      ],
      "execution_count": null,
      "outputs": []
    },
    {
      "cell_type": "code",
      "metadata": {
        "id": "FtoJ-m70f2Je"
      },
      "source": [
        "from google.colab import drive\n",
        "drive.mount('/content/drive')"
      ],
      "execution_count": null,
      "outputs": []
    },
    {
      "cell_type": "code",
      "metadata": {
        "id": "I6LRgi9keldf"
      },
      "source": [
        "import os\n",
        "import pandas as pd \n",
        "import numpy as np\n",
        "import tensorflow as tf\n",
        "import matplotlib.pyplot as plt\n",
        "from glob import glob\n",
        "from keras.preprocessing.image import ImageDataGenerator\n",
        "from keras.models import Sequential\n",
        "from keras.layers import Conv2D, MaxPooling2D, Flatten, Dense, BatchNormalization, Dropout\n",
        "from sklearn.model_selection import train_test_split"
      ],
      "execution_count": 8,
      "outputs": []
    },
    {
      "cell_type": "code",
      "metadata": {
        "id": "8bK6k-40er5u"
      },
      "source": [
        "path = \"/content/resized_train_cropped/resized_train_cropped\"\n",
        "data = \"/content/resized_train_cropped/resized_train_cropped\"\n",
        "print('number of images in total - ',len(os.listdir(data)))"
      ],
      "execution_count": null,
      "outputs": []
    },
    {
      "cell_type": "code",
      "metadata": {
        "id": "QV6FoI5iiNx9"
      },
      "source": [
        "data = pd.read_csv(\"/content/trainLabels.csv\") \n",
        "data.head()"
      ],
      "execution_count": null,
      "outputs": []
    },
    {
      "cell_type": "code",
      "metadata": {
        "id": "6O7eL28tmcAz"
      },
      "source": [
        "data['image_name'] = [i+\".jpeg\" for i in data['image'].values]\n",
        "data.head()"
      ],
      "execution_count": null,
      "outputs": []
    },
    {
      "cell_type": "code",
      "metadata": {
        "id": "XwX2OBkFmhmX"
      },
      "source": [
        "train, val = train_test_split(data, test_size=0.15)"
      ],
      "execution_count": 12,
      "outputs": []
    },
    {
      "cell_type": "code",
      "metadata": {
        "id": "-KAk7G4xmqVA"
      },
      "source": [
        "train.shape, val.shape"
      ],
      "execution_count": null,
      "outputs": []
    },
    {
      "cell_type": "code",
      "metadata": {
        "id": "JxUcH9YgmtWp"
      },
      "source": [
        "import cv2\n",
        "def load_ben_color(image):\n",
        "    IMG_SIZE = 224\n",
        "    sigmaX=10\n",
        "    image = cv2.resize(image, (IMG_SIZE, IMG_SIZE))\n",
        "    image=cv2.addWeighted ( image,4, cv2.GaussianBlur( image , (0,0) , sigmaX) ,-4 ,128)\n",
        "    return image"
      ],
      "execution_count": 14,
      "outputs": []
    },
    {
      "cell_type": "code",
      "metadata": {
        "id": "NyJFu1nSmvJT"
      },
      "source": [
        "data_gen = ImageDataGenerator(rescale=1/255.,\n",
        "                              zoom_range=0.15,\n",
        "                              fill_mode='constant',\n",
        "                              cval=0.,\n",
        "                              horizontal_flip=True,\n",
        "                              vertical_flip=True,\n",
        "                              preprocessing_function=load_ben_color)"
      ],
      "execution_count": 15,
      "outputs": []
    },
    {
      "cell_type": "code",
      "metadata": {
        "id": "VsDrNsQXmw8I"
      },
      "source": [
        "# batch size\n",
        "bs = 128\n",
        "\n",
        "train_gen = data_gen.flow_from_dataframe(train, \n",
        "                                        path,\n",
        "                                         x_col=\"image_name\", y_col=\"level\", class_mode=\"raw\",\n",
        "                                         batch_size=bs,\n",
        "                                         target_size=(224, 224))\n",
        "val_gen = data_gen.flow_from_dataframe(val,\n",
        "                                       path,\n",
        "                                       x_col=\"image_name\", y_col=\"level\", class_mode=\"raw\",\n",
        "                                       batch_size=bs,\n",
        "                                       target_size=(224, 224))"
      ],
      "execution_count": null,
      "outputs": []
    },
    {
      "cell_type": "code",
      "metadata": {
        "id": "2OhC8pZfmzEX"
      },
      "source": [
        "from keras.applications.resnet50 import ResNet50\n",
        "import keras.layers as L\n",
        "from keras.models import Model"
      ],
      "execution_count": 17,
      "outputs": []
    },
    {
      "cell_type": "code",
      "metadata": {
        "id": "TZYMkCZKm2AZ"
      },
      "source": [
        "base_model = ResNet50(weights='imagenet',\n",
        "                   include_top=False,\n",
        "                   input_shape=(224, 224, 3))\n",
        "\n",
        "x = base_model.output\n",
        "x = L.GlobalMaxPooling2D()(x)\n",
        "x = L.BatchNormalization()(x)\n",
        "x = L.Dropout(0.2)(x)\n",
        "x = L.Dense(1024, activation=\"relu\")(x)\n",
        "x = L.Dropout(0.1)(x)\n",
        "x = L.Dense(64, activation=\"relu\")(x)\n",
        "predictions = L.Dense(5, activation='softmax')(x)"
      ],
      "execution_count": null,
      "outputs": []
    },
    {
      "cell_type": "code",
      "metadata": {
        "id": "VsGaxWapnCpY"
      },
      "source": [
        "model = Model(inputs=base_model.input, outputs=predictions)"
      ],
      "execution_count": 19,
      "outputs": []
    },
    {
      "cell_type": "code",
      "metadata": {
        "id": "GObADzuwnEX9"
      },
      "source": [
        "for layer in base_model.layers[:-20]: layer.trainable = False"
      ],
      "execution_count": 20,
      "outputs": []
    },
    {
      "cell_type": "code",
      "metadata": {
        "id": "qPX7ocjunGTK"
      },
      "source": [
        "model.compile(optimizer='adam', loss='sparse_categorical_crossentropy', metrics=['accuracy'])"
      ],
      "execution_count": 41,
      "outputs": []
    },
    {
      "cell_type": "code",
      "metadata": {
        "id": "KuM5as3fnIG9"
      },
      "source": [
        "model.summary()"
      ],
      "execution_count": null,
      "outputs": []
    },
    {
      "cell_type": "code",
      "metadata": {
        "id": "dOJLjQC7nMld"
      },
      "source": [
        "from keras.callbacks import ModelCheckpoint, ReduceLROnPlateau"
      ],
      "execution_count": 43,
      "outputs": []
    },
    {
      "cell_type": "code",
      "metadata": {
        "colab": {
          "base_uri": "https://localhost:8080/"
        },
        "id": "BpZaRKH3nOqE",
        "outputId": "2f951d90-7897-48c9-9f60-c2d08b389c91"
      },
      "source": [
        "mmodel_history = model.fit(train_gen, steps_per_epoch=int(29842/128), epochs=2,  validation_data=val_gen, validation_steps=int(5266/128))"
      ],
      "execution_count": 45,
      "outputs": [
        {
          "output_type": "stream",
          "text": [
            "Epoch 1/10\n",
            "233/233 [==============================] - 978s 4s/step - loss: 1.1454 - accuracy: 0.6850 - val_loss: 0.9753 - val_accuracy: 0.7348\n",
            "Epoch 2/10\n",
            "233/233 [==============================] - 969s 4s/step - loss: 0.9068 - accuracy: 0.7303 - val_loss: 0.9026 - val_accuracy: 0.7361\n",
            "Epoch 3/10\n",
            "233/233 [==============================] - 962s 4s/step - loss: 0.8799 - accuracy: 0.7325 - val_loss: 0.8784 - val_accuracy: 0.7365\n",
            "Epoch 4/10\n",
            "233/233 [==============================] - 963s 4s/step - loss: 0.8699 - accuracy: 0.7357 - val_loss: 0.8539 - val_accuracy: 0.7361\n",
            "Epoch 5/10\n",
            "233/233 [==============================] - 961s 4s/step - loss: 0.8728 - accuracy: 0.7331 - val_loss: 0.9105 - val_accuracy: 0.7327\n",
            "Epoch 6/10\n",
            "233/233 [==============================] - 947s 4s/step - loss: 0.8668 - accuracy: 0.7306 - val_loss: 0.8627 - val_accuracy: 0.7357\n",
            "Epoch 7/10\n",
            "233/233 [==============================] - 919s 4s/step - loss: 0.8541 - accuracy: 0.7368 - val_loss: 0.8391 - val_accuracy: 0.7359\n",
            "Epoch 8/10\n",
            "233/233 [==============================] - 921s 4s/step - loss: 0.8600 - accuracy: 0.7339 - val_loss: 0.8432 - val_accuracy: 0.7361\n",
            "Epoch 9/10\n",
            "233/233 [==============================] - 916s 4s/step - loss: 0.8454 - accuracy: 0.7397 - val_loss: 0.8417 - val_accuracy: 0.7361\n",
            "Epoch 10/10\n",
            "233/233 [==============================] - 934s 4s/step - loss: 0.8432 - accuracy: 0.7364 - val_loss: 0.8789 - val_accuracy: 0.7355\n"
          ],
          "name": "stdout"
        }
      ]
    },
    {
      "cell_type": "code",
      "metadata": {
        "colab": {
          "base_uri": "https://localhost:8080/",
          "height": 577
        },
        "id": "3RodgrSlsJ4Z",
        "outputId": "8ea870bb-9967-41d7-996e-72a956fa533b"
      },
      "source": [
        "#SAVING WEIGHTS\n",
        "\n",
        "model.save('dr_weights.h5')\n",
        "\n",
        "#MODEL\n",
        "\n",
        "accNT = mmodel_history.history['accuracy']\n",
        "val_accNT = mmodel_history.history['val_accuracy']\n",
        "lossNT = mmodel_history.history['loss']\n",
        "val_lossNT = mmodel_history.history['val_loss']\n",
        "epochsNT = range(len(accNT))\n",
        "\n",
        "plt.plot(epochsNT, accNT, 'r', label='Training accuracy')\n",
        "plt.plot(epochsNT, val_accNT, 'b', label='Validation accuracy')\n",
        "plt.title('Training and validation accuracy')\n",
        "plt.legend(loc=0)\n",
        "plt.figure()\n",
        "\n",
        "plt.show()\n",
        "\n",
        "plt.plot(epochsNT, lossNT, 'r', label='Training loss')\n",
        "plt.plot(epochsNT, val_lossNT, 'b', label='Validation loss')\n",
        "plt.title('Training and validation loss')\n",
        "plt.legend(loc=0)\n",
        "plt.figure()\n",
        "\n",
        "plt.show()"
      ],
      "execution_count": 46,
      "outputs": [
        {
          "output_type": "display_data",
          "data": {
            "image/png": "[encoded data removed]",
            "text/plain": [
              "<Figure size 432x288 with 1 Axes>"
            ]
          },
          "metadata": {
            "tags": [],
            "needs_background": "light"
          }
        },
        {
          "output_type": "display_data",
          "data": {
            "text/plain": [
              "<Figure size 432x288 with 0 Axes>"
            ]
          },
          "metadata": {
            "tags": []
          }
        },
        {
          "output_type": "display_data",
          "data": {
            "image/png": "[encoded data removed]",
            "text/plain": [
              "<Figure size 432x288 with 1 Axes>"
            ]
          },
          "metadata": {
            "tags": [],
            "needs_background": "light"
          }
        },
        {
          "output_type": "display_data",
          "data": {
            "text/plain": [
              "<Figure size 432x288 with 0 Axes>"
            ]
          },
          "metadata": {
            "tags": []
          }
        }
      ]
    }
  ]
}